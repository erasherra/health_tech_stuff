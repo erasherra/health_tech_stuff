{
 "cells": [
  {
   "cell_type": "markdown",
   "metadata": {
    "colab_type": "text",
    "id": "5d5Xrx60HTAS"
   },
   "source": [
    "<h2>Case 1. Heart Disease Classification (binary)</h2>\n",
    "<h3>Author: Amir Ingher and Joona Ikonen</h3>\n",
    "<br>\n",
    "<p>3.2.2019</p>\n",
    "<br>\n",
    "<p>Code that was used in this case  <a href=\"https://github.com/sakluk/cognitive-systems-for-health-technology/blob/master/Week_2_Case_1_(drafty_notes).ipynb\">(link)</a></p>\n",
    "<br>\n",
    "<p>Organization: Metropolia University of Applied Sciences</p>"
   ]
  },
  {
   "cell_type": "code",
   "execution_count": 1,
   "metadata": {
    "colab": {
     "base_uri": "https://localhost:8080/",
     "height": 111
    },
    "colab_type": "code",
    "id": "t4ZYmiti1p8-",
    "outputId": "abc5b566-d86b-4e47-b73b-a2a75bae4bd8"
   },
   "outputs": [
    {
     "name": "stderr",
     "output_type": "stream",
     "text": [
      "Using TensorFlow backend.\n"
     ]
    }
   ],
   "source": [
    "\n",
    "\n",
    "import time\n",
    "\n",
    "import pandas as pd\n",
    "import numpy as np\n",
    "import matplotlib.pyplot as plt\n",
    "\n",
    "from matplotlib.pyplot import figure\n",
    "from sklearn.preprocessing import normalize\n",
    "from sklearn.metrics import confusion_matrix\n",
    "from sklearn.utils import shuffle\n",
    "from sklearn.model_selection import cross_val_score\n",
    "from sklearn.preprocessing import LabelEncoder\n",
    "from sklearn.model_selection import StratifiedKFold\n",
    "from sklearn.preprocessing import StandardScaler\n",
    "from sklearn.pipeline import Pipeline\n",
    "from sklearn.model_selection import cross_validate\n",
    "from random import randint\n",
    "\n",
    "from keras import models, layers\n",
    "from keras.wrappers.scikit_learn import KerasClassifier"
   ]
  },
  {
   "cell_type": "markdown",
   "metadata": {},
   "source": [
    "<h3>Fetch the data</h3>"
   ]
  },
  {
   "cell_type": "code",
   "execution_count": 78,
   "metadata": {},
   "outputs": [
    {
     "data": {
      "text/html": [
       "<div>\n",
       "<style scoped>\n",
       "    .dataframe tbody tr th:only-of-type {\n",
       "        vertical-align: middle;\n",
       "    }\n",
       "\n",
       "    .dataframe tbody tr th {\n",
       "        vertical-align: top;\n",
       "    }\n",
       "\n",
       "    .dataframe thead th {\n",
       "        text-align: right;\n",
       "    }\n",
       "</style>\n",
       "<table border=\"1\" class=\"dataframe\">\n",
       "  <thead>\n",
       "    <tr style=\"text-align: right;\">\n",
       "      <th></th>\n",
       "      <th>0</th>\n",
       "      <th>1</th>\n",
       "      <th>2</th>\n",
       "      <th>3</th>\n",
       "      <th>4</th>\n",
       "      <th>5</th>\n",
       "      <th>6</th>\n",
       "      <th>7</th>\n",
       "      <th>8</th>\n",
       "      <th>9</th>\n",
       "      <th>10</th>\n",
       "      <th>11</th>\n",
       "      <th>12</th>\n",
       "      <th>13</th>\n",
       "    </tr>\n",
       "  </thead>\n",
       "  <tbody>\n",
       "    <tr>\n",
       "      <th>0</th>\n",
       "      <td>63.0</td>\n",
       "      <td>1.0</td>\n",
       "      <td>1.0</td>\n",
       "      <td>145.0</td>\n",
       "      <td>233.0</td>\n",
       "      <td>1.0</td>\n",
       "      <td>2.0</td>\n",
       "      <td>150.0</td>\n",
       "      <td>0.0</td>\n",
       "      <td>2.3</td>\n",
       "      <td>3.0</td>\n",
       "      <td>0.0</td>\n",
       "      <td>6.0</td>\n",
       "      <td>0</td>\n",
       "    </tr>\n",
       "    <tr>\n",
       "      <th>1</th>\n",
       "      <td>67.0</td>\n",
       "      <td>1.0</td>\n",
       "      <td>4.0</td>\n",
       "      <td>160.0</td>\n",
       "      <td>286.0</td>\n",
       "      <td>0.0</td>\n",
       "      <td>2.0</td>\n",
       "      <td>108.0</td>\n",
       "      <td>1.0</td>\n",
       "      <td>1.5</td>\n",
       "      <td>2.0</td>\n",
       "      <td>3.0</td>\n",
       "      <td>3.0</td>\n",
       "      <td>2</td>\n",
       "    </tr>\n",
       "    <tr>\n",
       "      <th>2</th>\n",
       "      <td>67.0</td>\n",
       "      <td>1.0</td>\n",
       "      <td>4.0</td>\n",
       "      <td>120.0</td>\n",
       "      <td>229.0</td>\n",
       "      <td>0.0</td>\n",
       "      <td>2.0</td>\n",
       "      <td>129.0</td>\n",
       "      <td>1.0</td>\n",
       "      <td>2.6</td>\n",
       "      <td>2.0</td>\n",
       "      <td>2.0</td>\n",
       "      <td>7.0</td>\n",
       "      <td>1</td>\n",
       "    </tr>\n",
       "    <tr>\n",
       "      <th>3</th>\n",
       "      <td>37.0</td>\n",
       "      <td>1.0</td>\n",
       "      <td>3.0</td>\n",
       "      <td>130.0</td>\n",
       "      <td>250.0</td>\n",
       "      <td>0.0</td>\n",
       "      <td>0.0</td>\n",
       "      <td>187.0</td>\n",
       "      <td>0.0</td>\n",
       "      <td>3.5</td>\n",
       "      <td>3.0</td>\n",
       "      <td>0.0</td>\n",
       "      <td>3.0</td>\n",
       "      <td>0</td>\n",
       "    </tr>\n",
       "    <tr>\n",
       "      <th>4</th>\n",
       "      <td>41.0</td>\n",
       "      <td>0.0</td>\n",
       "      <td>2.0</td>\n",
       "      <td>130.0</td>\n",
       "      <td>204.0</td>\n",
       "      <td>0.0</td>\n",
       "      <td>2.0</td>\n",
       "      <td>172.0</td>\n",
       "      <td>0.0</td>\n",
       "      <td>1.4</td>\n",
       "      <td>1.0</td>\n",
       "      <td>0.0</td>\n",
       "      <td>3.0</td>\n",
       "      <td>0</td>\n",
       "    </tr>\n",
       "  </tbody>\n",
       "</table>\n",
       "</div>"
      ],
      "text/plain": [
       "     0    1    2      3      4    5    6      7    8    9    10   11   12  13\n",
       "0  63.0  1.0  1.0  145.0  233.0  1.0  2.0  150.0  0.0  2.3  3.0  0.0  6.0   0\n",
       "1  67.0  1.0  4.0  160.0  286.0  0.0  2.0  108.0  1.0  1.5  2.0  3.0  3.0   2\n",
       "2  67.0  1.0  4.0  120.0  229.0  0.0  2.0  129.0  1.0  2.6  2.0  2.0  7.0   1\n",
       "3  37.0  1.0  3.0  130.0  250.0  0.0  0.0  187.0  0.0  3.5  3.0  0.0  3.0   0\n",
       "4  41.0  0.0  2.0  130.0  204.0  0.0  2.0  172.0  0.0  1.4  1.0  0.0  3.0   0"
      ]
     },
     "execution_count": 78,
     "metadata": {},
     "output_type": "execute_result"
    }
   ],
   "source": [
    "# Import data\n",
    "url = r'http://archive.ics.uci.edu/ml/machine-learning-databases/heart-disease/processed.cleveland.data'\n",
    "dataframe = pd.read_csv(url, \n",
    "                        sep = ',', \n",
    "                        header = None, \n",
    "                        index_col = None,\n",
    "                        na_values = '?')\n",
    "dataframe.head()"
   ]
  },
  {
   "cell_type": "markdown",
   "metadata": {},
   "source": [
    "<h3>Lets transform our classified data to binary data </h3>"
   ]
  },
  {
   "cell_type": "code",
   "execution_count": 83,
   "metadata": {
    "colab": {
     "base_uri": "https://localhost:8080/",
     "height": 36
    },
    "colab_type": "code",
    "id": "ekUa75RI1toN",
    "outputId": "75c5910a-dfd7-4734-bc53-3723f7995451"
   },
   "outputs": [
    {
     "name": "stdout",
     "output_type": "stream",
     "text": [
      "(303, 13) (303,)\n"
     ]
    },
    {
     "data": {
      "image/png": "[encoded data removed]",
      "text/plain": [
       "<Figure size 432x288 with 1 Axes>"
      ]
     },
     "metadata": {
      "needs_background": "light"
     },
     "output_type": "display_data"
    }
   ],
   "source": [
    "\n",
    "\n",
    "\n",
    "\n",
    "\n",
    "# Data column names\n",
    "name_list = ['age', 'sex', 'cp','trestbps', 'chol', 'fbs','restecg',\n",
    "             'thalac','exang','oldpeak','slope','ca','thal','num']\n",
    "dataframe.columns = name_list\n",
    "\n",
    "# Filling missing data with columnwise median values\n",
    "dataframe = dataframe.fillna(dataframe.median())\n",
    "\n",
    "# fix random seed for reproducibility\n",
    "seed = 7\n",
    "np.random.seed(seed)\n",
    "\n",
    "# Randomize rows\n",
    "dataframe = shuffle(dataframe)\n",
    "\n",
    "# Select the data (input) columns\n",
    "data_list = ['age', 'sex', 'cp','trestbps', 'chol', 'fbs','restecg',\n",
    "             'thalac','exang','oldpeak','slope','ca','thal']\n",
    "data = dataframe[data_list]\n",
    "\n",
    "# Normalize data\n",
    "data_min = data.min()\n",
    "data_max = data.max()\n",
    "data_norm = (data - data_min)/(data_max - data_min)\n",
    "\n",
    "# Select labels (output)\n",
    "labels = dataframe['num']\n",
    "\n",
    "# Convert the labels as binary\n",
    "labels = 1.0*(labels > 0.0)\n",
    "\n",
    "# Check the shapes of the normalized data and categorical output\n",
    "print(data_norm.shape, labels.shape)\n",
    "\n",
    "# Plot the histogram (if True)\n",
    "if True:\n",
    "  # histogram of the labels (severity of the disease)\n",
    "  plt.hist(labels, bins = [-0.5, 0.5, 1.5, 2.5, 3.5, 4.5])\n",
    "  plt.xlabel('Severity of the disease')\n",
    "  plt.ylabel('Frequency')\n",
    "  plt.title('Histogram of labels')\n",
    "  plt.show()\n"
   ]
  },
  {
   "cell_type": "markdown",
   "metadata": {},
   "source": [
    "<h2> First Solution </h2>"
   ]
  },
  {
   "cell_type": "code",
   "execution_count": 82,
   "metadata": {
    "colab": {},
    "colab_type": "code",
    "id": "VtbBASN53NBo"
   },
   "outputs": [],
   "source": [
    "# Define the model. We are using pickBestModel() in this case\n",
    "def baseline():\n",
    "  model = models.Sequential()\n",
    "  model.add(layers.Dense(15, activation='relu', input_shape=(13,)))\n",
    "  model.add(layers.Dropout(0.2))  \n",
    "  model.add(layers.Dense(10, activation='relu'))\n",
    "  model.add(layers.Dropout(0.1))    \n",
    "  model.add(layers.Dense(1, activation='sigmoid'))\n",
    "  \n",
    "  \n",
    "    \n",
    "  model.compile(optimizer = 'adam',\n",
    "                loss = 'binary_crossentropy',\n",
    "                metrics = ['accuracy'])\n",
    "\n",
    "  return model"
   ]
  },
  {
   "cell_type": "code",
   "execution_count": 6,
   "metadata": {},
   "outputs": [],
   "source": [
    "def fitmodel():\n",
    "\n",
    "    train_data = data_norm[:200]\n",
    "    val_data = data_norm[200:]\n",
    "\n",
    "    train_labels = labels[:200]\n",
    "    val_labels = labels[200:]\n",
    "\n",
    "    # Fit the model with the data and keep record on elapsed time\n",
    "    newmodel= baseline()\n",
    "    t_start = time.time()\n",
    "    history = newmodel.fit(train_data, train_labels, \n",
    "                    epochs = 50, \n",
    "                    batch_size = 10, \n",
    "                    verbose = 0,\n",
    "                    validation_data = (val_data, val_labels))\n",
    "    t_end = time.time()\n",
    "    print('Elapsed time: {:.2f} seconds'.format(t_end - t_start))\n",
    "\n",
    "    return history"
   ]
  },
  {
   "cell_type": "code",
   "execution_count": 32,
   "metadata": {},
   "outputs": [],
   "source": [
    "##Here we can create the logics for comparing and choosing the best model\n",
    "def evaluateModels(a_model,b_model):\n",
    "    \n",
    "    a_history_dict = a_model.history\n",
    "    b_history_dict = b_model.history\n",
    "\n",
    "    ##loss_values = history_dict['loss']\n",
    "    ##val_loss_values = history_dict['val_loss']\n",
    "    ##acc_values = history_dict['acc']\n",
    "    ##val_acc_values = history_dict['val_acc']\n",
    "    ##epochs = range(1, len(loss_values) + 1)\n",
    "    \n",
    "    if a_history_dict['loss'] < b_history_dict['loss']:\n",
    "        return a_model\n",
    "    else:\n",
    "        return b_model\n",
    "    \n",
    "    "
   ]
  },
  {
   "cell_type": "code",
   "execution_count": 22,
   "metadata": {},
   "outputs": [],
   "source": [
    "##get (x amount neurons ) layer\n",
    "def getLayer(rand):\n",
    "    \n",
    "    return layers.Dense(rand, activation='relu')\n"
   ]
  },
  {
   "cell_type": "code",
   "execution_count": 21,
   "metadata": {},
   "outputs": [],
   "source": [
    "##get drop out layers\n",
    "def getDropout(rand):\n",
    "    \n",
    "    return layers.Dropout(rand/100)"
   ]
  },
  {
   "cell_type": "code",
   "execution_count": 67,
   "metadata": {},
   "outputs": [],
   "source": [
    "##here we create random x amount of layers \n",
    "def createModel(amount_layers,input_num):\n",
    "    \n",
    "    model = models.Sequential()\n",
    "    model.add(layers.Dense(15, activation='relu', input_shape=(input_num,)))\n",
    "    \n",
    "    for num in range(amount_layers):\n",
    "        model.add(getLayer(randint(4,14)))\n",
    "        model.add(getDropout(randint(0,4)))\n",
    "        \n",
    "    model.add(layers.Dense(1, activation='sigmoid'))\n",
    "    model.compile(optimizer = 'adam',\n",
    "                loss = 'binary_crossentropy',\n",
    "                metrics = ['accuracy'])\n",
    "    return model"
   ]
  },
  {
   "cell_type": "code",
   "execution_count": 68,
   "metadata": {},
   "outputs": [],
   "source": [
    "##here we fit the models\n",
    "def fitmodels(e,b,v,model):\n",
    "    \n",
    "    train_data = data_norm[:200]\n",
    "    val_data = data_norm[200:]\n",
    "\n",
    "    train_labels = labels[:200]\n",
    "    val_labels = labels[200:]\n",
    "\n",
    "    # Fit the model with the data and keep record on elapsed time\n",
    "    newmodel= model\n",
    "    t_start = time.time()\n",
    "    history = newmodel.fit(train_data, train_labels, \n",
    "                    epochs = e, \n",
    "                    batch_size = b, \n",
    "                    verbose = v,\n",
    "                    validation_data = (val_data, val_labels))\n",
    "    t_end = time.time()\n",
    "\n",
    "    return history  "
   ]
  },
  {
   "cell_type": "code",
   "execution_count": 69,
   "metadata": {},
   "outputs": [],
   "source": [
    "##here we generate x*y amount of models and then choose the best one\n",
    "def pickBestModel(xx,yy):\n",
    "    \n",
    "    model = createModel(3,13)\n",
    "    history = fitmodels(40,10,0,model)\n",
    "    bestModel = history;\n",
    "    \n",
    "    for x in range(xx):\n",
    "        epochs = randint(20,50)\n",
    "        bSize = randint(10,30)\n",
    "        print(x)\n",
    "        t_start = time.time()  \n",
    "        \n",
    "        for y in range(yy):\n",
    "            model = createModel(randint(1,5),13)\n",
    "            history = fitmodels(epochs,bSize,0,model)\n",
    "            bestModel = evaluateModels(bestModel,history)\n",
    "         \n",
    "        t_end = time.time()\n",
    "        print('Elapsed time: {:.2f} seconds'.format(t_end - t_start))\n",
    " \n",
    "    \n",
    "    return bestModel"
   ]
  },
  {
   "cell_type": "markdown",
   "metadata": {},
   "source": [
    "<h3>Start the automated training</h3>"
   ]
  },
  {
   "cell_type": "code",
   "execution_count": 74,
   "metadata": {},
   "outputs": [
    {
     "name": "stdout",
     "output_type": "stream",
     "text": [
      "0\n",
      "Elapsed time: 96.54 seconds\n",
      "1\n",
      "Elapsed time: 91.95 seconds\n",
      "2\n",
      "Elapsed time: 107.17 seconds\n",
      "3\n",
      "Elapsed time: 99.12 seconds\n",
      "4\n",
      "Elapsed time: 97.46 seconds\n",
      "Training: \n",
      "loss:  0.36119864992797374\n",
      "acc:  0.8500000002980233 \n",
      "\n",
      "Validation: \n",
      "loss:  0.36847053338023067\n",
      "acc:  0.8446602051697888 \n",
      "\n"
     ]
    }
   ],
   "source": [
    "# Get the training data\n",
    "his = pickBestModel(5,3)\n",
    "history_dict = his.history\n",
    "loss_values = history_dict['loss']\n",
    "val_loss_values = history_dict['val_loss']\n",
    "acc_values = history_dict['acc']\n",
    "val_acc_values = history_dict['val_acc']\n",
    "epochs = range(1, len(loss_values) + 1)\n",
    "\n",
    "print(\"Training: \")\n",
    "print(\"loss: \",history_dict['loss'][-1])\n",
    "print(\"acc: \",history_dict['acc'][-1],\"\\n\")\n",
    "print(\"Validation: \")\n",
    "print(\"loss: \",history_dict['val_loss'][-1])\n",
    "print(\"acc: \",history_dict['val_acc'][-1],\"\\n\")"
   ]
  },
  {
   "cell_type": "markdown",
   "metadata": {},
   "source": [
    "<h3>Lets Create Graphs</h3>"
   ]
  },
  {
   "cell_type": "code",
   "execution_count": 75,
   "metadata": {
    "scrolled": true
   },
   "outputs": [
    {
     "data": {
      "image/png": "[encoded data removed]",
      "text/plain": [
       "<Figure size 432x288 with 1 Axes>"
      ]
     },
     "metadata": {
      "needs_background": "light"
     },
     "output_type": "display_data"
    },
    {
     "name": "stdout",
     "output_type": "stream",
     "text": [
      "Training: \n",
      "loss:  0.36119864992797374\n",
      "Validation: \n",
      "loss:  0.36847053338023067\n"
     ]
    }
   ],
   "source": [
    "plt.figure()\n",
    "plt.plot(epochs, loss_values, 'b', label='Training loss')\n",
    "plt.plot(epochs, val_loss_values, 'r', label='Validation loss')\n",
    "plt.xlabel('Epochs')\n",
    "plt.ylabel('Loss')\n",
    "plt.ylim([0, 2])\n",
    "plt.legend()\n",
    "plt.show()\n",
    "print(\"Training: \")\n",
    "print(\"loss: \",history_dict['loss'][-1])\n",
    "print(\"Validation: \")\n",
    "print(\"loss: \",history_dict['val_loss'][-1])"
   ]
  },
  {
   "cell_type": "code",
   "execution_count": 85,
   "metadata": {},
   "outputs": [
    {
     "data": {
      "image/png": "[encoded data removed]",
      "text/plain": [
       "<Figure size 432x288 with 1 Axes>"
      ]
     },
     "metadata": {
      "needs_background": "light"
     },
     "output_type": "display_data"
    },
    {
     "name": "stdout",
     "output_type": "stream",
     "text": [
      "Training: \n",
      "acc:  0.8500000002980233\n",
      "Validation: \n",
      "acc:  0.8446602051697888\n"
     ]
    }
   ],
   "source": [
    "plt.figure()\n",
    "plt.plot(epochs, acc_values, 'b', label='Training acc')\n",
    "plt.plot(epochs, val_acc_values, 'r', label='Validation acc')\n",
    "plt.xlabel('Epochs')\n",
    "plt.ylabel('Accuracy')\n",
    "plt.ylim([0, 1])\n",
    "plt.legend()\n",
    "plt.show()\n",
    "print(\"Training: \")\n",
    "print(\"acc: \",history_dict['acc'][-1])\n",
    "print(\"Validation: \")\n",
    "print(\"acc: \",history_dict['val_acc'][-1])"
   ]
  },
  {
   "cell_type": "markdown",
   "metadata": {},
   "source": [
    "<h2>Secound Solution </h2>"
   ]
  },
  {
   "cell_type": "markdown",
   "metadata": {},
   "source": [
    "<h3>Lets create another model and validate it with cross validation</h3>"
   ]
  },
  {
   "cell_type": "code",
   "execution_count": 50,
   "metadata": {},
   "outputs": [],
   "source": [
    "def getEstimator():\n",
    "    \n",
    "    return KerasClassifier(build_fn=baseline, epochs=50, batch_size=30, verbose=0)"
   ]
  },
  {
   "cell_type": "code",
   "execution_count": 51,
   "metadata": {},
   "outputs": [],
   "source": [
    "def getKFolder():\n",
    "    \n",
    "    return StratifiedKFold(n_splits=5, shuffle=True, random_state=seed)"
   ]
  },
  {
   "cell_type": "code",
   "execution_count": 52,
   "metadata": {
    "colab": {
     "base_uri": "https://localhost:8080/",
     "height": 73
    },
    "colab_type": "code",
    "id": "VXeHjXwP3UTI",
    "outputId": "53bab7da-2e77-4b4c-c345-925e76a53c96",
    "scrolled": false
   },
   "outputs": [],
   "source": [
    "# Evaluate the model\n",
    "\n",
    "def cross_v_score():\n",
    "    t_start = time.time()\n",
    "\n",
    "    results = cross_val_score(getEstimator(),data, labels, cv=getKFolder())\n",
    "    t_end = time.time()\n",
    "\n",
    "    print('Elapsed time: {:.2f} seconds'.format(t_end - t_start))\n",
    "\n",
    "    np.set_printoptions(formatter={'float': '{: 0.2f}'.format})\n",
    "\n",
    "    print('Results: ',results*100, \"%\")\n",
    "    return results\n",
    "\n"
   ]
  },
  {
   "cell_type": "code",
   "execution_count": 53,
   "metadata": {
    "colab": {
     "base_uri": "https://localhost:8080/",
     "height": 36
    },
    "colab_type": "code",
    "id": "ngrvLagkF6go",
    "outputId": "8d1bbe88-7e88-47d7-e70d-3e4ebaacc1b0"
   },
   "outputs": [],
   "source": [
    "# Try another cross validator\n",
    "def cross_validation():\n",
    "    t_start = time.time()\n",
    "    cv_results = cross_validate(getEstimator(), data, labels, cv=10,\n",
    "                           return_train_score=True)\n",
    "    sorted(cv_results.keys())                         \n",
    "    t_end = time.time()\n",
    "    print('Elapsed time: {:.2f} seconds'.format(t_end - t_start))\n",
    "    return cv_results"
   ]
  },
  {
   "cell_type": "code",
   "execution_count": 54,
   "metadata": {
    "colab": {
     "base_uri": "https://localhost:8080/",
     "height": 54
    },
    "colab_type": "code",
    "id": "rz3c0GeJ3aKt",
    "outputId": "2eba562a-cd70-4801-803b-56ea4b275b7a",
    "scrolled": true
   },
   "outputs": [
    {
     "name": "stdout",
     "output_type": "stream",
     "text": [
      "Elapsed time: 24.11 seconds\n",
      "Results:  [ 63.93  72.13  54.10  67.21  54.24] %\n",
      "Results [ 63.93  72.13  54.10  67.21  54.24] %\n",
      "Average (std): 62.32% (7.15%)\n"
     ]
    }
   ],
   "source": [
    "# Print the results (second time)\n",
    "results = cross_v_score()\n",
    "print('Results', results*100, \"%\")\n",
    "print(\"Average (std): %.2f%% (%.2f%%)\" % (results.mean()*100, results.std()*100))"
   ]
  },
  {
   "cell_type": "code",
   "execution_count": 56,
   "metadata": {
    "colab": {
     "base_uri": "https://localhost:8080/",
     "height": 166
    },
    "colab_type": "code",
    "id": "Pqg7rte5GOzE",
    "outputId": "be09e67e-3b94-4606-fe8d-7391df4a3ac7"
   },
   "outputs": [
    {
     "name": "stdout",
     "output_type": "stream",
     "text": [
      "Elapsed time: 48.43 seconds\n",
      "Test score: [ 0.55  0.42  0.48  0.57  0.37  0.63  0.47  0.63  0.73  0.70]\n",
      "Average (std): 55.52% (11.49%)\n",
      "\n",
      "Train score: [ 0.69  0.56  0.55  0.54  0.47  0.61  0.64  0.66  0.60  0.75]\n",
      "Average (std): 60.65% (7.91%)\n"
     ]
    }
   ],
   "source": [
    "results = cross_validation()\n",
    "print('Test score:', results['test_score'])\n",
    "print(\"Average (std): %.2f%% (%.2f%%)\" % (results['test_score'].mean()*100, results['test_score'].std()*100))\n",
    "print()\n",
    "print('Train score:', results['train_score'])\n",
    "print(\"Average (std): %.2f%% (%.2f%%)\" % (results['train_score'].mean()*100, results['train_score'].std()*100))"
   ]
  }
 ],
 "metadata": {
  "colab": {
   "name": "Week 2. Kfold Binary classifier.ipynb",
   "provenance": [],
   "version": "0.3.2"
  },
  "kernelspec": {
   "display_name": "Python 3",
   "language": "python",
   "name": "python3"
  },
  "language_info": {
   "codemirror_mode": {
    "name": "ipython",
    "version": 3
   },
   "file_extension": ".py",
   "mimetype": "text/x-python",
   "name": "python",
   "nbconvert_exporter": "python",
   "pygments_lexer": "ipython3",
   "version": "3.6.7"
  }
 },
 "nbformat": 4,
 "nbformat_minor": 1
}
