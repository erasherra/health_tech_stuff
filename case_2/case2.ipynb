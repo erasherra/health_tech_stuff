{
 "cells": [
  {
   "cell_type": "code",
   "execution_count": 1,
   "metadata": {},
   "outputs": [
    {
     "name": "stderr",
     "output_type": "stream",
     "text": [
      "Using TensorFlow backend.\n"
     ]
    }
   ],
   "source": [
    "import numpy as np\n",
    "import matplotlib.pyplot as plt\n",
    "import keras\n",
    "from keras import layers\n",
    "from keras import models"
   ]
  },
  {
   "cell_type": "code",
   "execution_count": 28,
   "metadata": {},
   "outputs": [
    {
     "name": "stdout",
     "output_type": "stream",
     "text": [
      "_________________________________________________________________\n",
      "Layer (type)                 Output Shape              Param #   \n",
      "=================================================================\n",
      "conv2d_13 (Conv2D)           (None, 148, 148, 32)      896       \n",
      "_________________________________________________________________\n",
      "max_pooling2d_13 (MaxPooling (None, 74, 74, 32)        0         \n",
      "_________________________________________________________________\n",
      "conv2d_14 (Conv2D)           (None, 72, 72, 32)        9248      \n",
      "_________________________________________________________________\n",
      "max_pooling2d_14 (MaxPooling (None, 36, 36, 32)        0         \n",
      "_________________________________________________________________\n",
      "conv2d_15 (Conv2D)           (None, 34, 34, 32)        9248      \n",
      "_________________________________________________________________\n",
      "max_pooling2d_15 (MaxPooling (None, 17, 17, 32)        0         \n",
      "_________________________________________________________________\n",
      "flatten_5 (Flatten)          (None, 9248)              0         \n",
      "_________________________________________________________________\n",
      "dense_18 (Dense)             (None, 256)               2367744   \n",
      "_________________________________________________________________\n",
      "dropout_11 (Dropout)         (None, 256)               0         \n",
      "_________________________________________________________________\n",
      "dense_19 (Dense)             (None, 256)               65792     \n",
      "_________________________________________________________________\n",
      "dense_20 (Dense)             (None, 1)                 257       \n",
      "=================================================================\n",
      "Total params: 2,453,185\n",
      "Trainable params: 2,453,185\n",
      "Non-trainable params: 0\n",
      "_________________________________________________________________\n"
     ]
    }
   ],
   "source": [
    "\n",
    "model = models.Sequential()\n",
    "model.add(layers.Conv2D(32, (3, 3), activation='relu', input_shape=(150, 150, 3)))\n",
    "model.add(layers.MaxPooling2D((2, 2)))\n",
    "model.add(layers.Conv2D(32, (3, 3), activation='relu'))\n",
    "model.add(layers.MaxPooling2D((2, 2)))\n",
    "model.add(layers.Conv2D(32, (3, 3), activation='relu'))\n",
    "model.add(layers.MaxPooling2D((2, 2)))\n",
    "model.add(layers.Flatten())\n",
    "model.add(layers.Dense(256, activation='relu'))\n",
    "model.add(layers.Dropout(0.3))\n",
    "model.add(layers.Dense(256, activation='relu'))\n",
    "model.add(layers.Dense(1, activation='sigmoid'))\n",
    "\n",
    "model.summary()"
   ]
  },
  {
   "cell_type": "code",
   "execution_count": 29,
   "metadata": {},
   "outputs": [],
   "source": [
    "from keras import optimizers\n",
    "\n",
    "\n",
    "model.compile(loss='binary_crossentropy',\n",
    "              optimizer=optimizers.Adadelta(),\n",
    "              metrics=['acc'])"
   ]
  },
  {
   "cell_type": "code",
   "execution_count": 30,
   "metadata": {},
   "outputs": [
    {
     "name": "stdout",
     "output_type": "stream",
     "text": [
      "Found 1031 images belonging to 2 classes.\n",
      "Found 516 images belonging to 2 classes.\n"
     ]
    }
   ],
   "source": [
    "\n",
    "from keras.preprocessing.image import ImageDataGenerator\n",
    "\n",
    "train_dir = \"./dataset2/train\"\n",
    "validation_dir = \"./dataset2/validation\"\n",
    "\n",
    "# All images will be rescaled by 1./255\n",
    "train_datagen = ImageDataGenerator(rescale=1./255)\n",
    "test_datagen = ImageDataGenerator(rescale=1./255)\n",
    "\n",
    "train_generator = train_datagen.flow_from_directory(\n",
    "    # This is the target directory\n",
    "    train_dir,\n",
    "    # All images will be resized to 150x150\n",
    "    target_size=(150, 150),\n",
    "\n",
    "    # We read images in batches\n",
    "    batch_size=20,\n",
    "    \n",
    "    # Since we use binary_crossentropy loss, we need binary labels\n",
    "    class_mode='binary')\n",
    "\n",
    "validation_generator = test_datagen.flow_from_directory(\n",
    "        validation_dir,\n",
    "        target_size=(150, 150),\n",
    "        batch_size=20,\n",
    "        class_mode='binary')"
   ]
  },
  {
   "cell_type": "code",
   "execution_count": 31,
   "metadata": {},
   "outputs": [
    {
     "name": "stdout",
     "output_type": "stream",
     "text": [
      "data batch shape: (20, 150, 150, 3)\n",
      "labels batch shape: (20,)\n",
      "data batch shape: (20, 150, 150, 3)\n",
      "labels batch shape: (20,)\n",
      "data batch shape: (20, 150, 150, 3)\n",
      "labels batch shape: (20,)\n",
      "data batch shape: (20, 150, 150, 3)\n",
      "labels batch shape: (20,)\n",
      "data batch shape: (20, 150, 150, 3)\n",
      "labels batch shape: (20,)\n",
      "data batch shape: (20, 150, 150, 3)\n",
      "labels batch shape: (20,)\n"
     ]
    }
   ],
   "source": [
    "# Testing that train generator works\n",
    "i = 0\n",
    "for data_batch, labels_batch in train_generator:\n",
    "    print('data batch shape:', data_batch.shape)\n",
    "    print('labels batch shape:', labels_batch.shape)\n",
    "    i = i + 1\n",
    "    if i > 5:\n",
    "        break"
   ]
  },
  {
   "cell_type": "code",
   "execution_count": 25,
   "metadata": {},
   "outputs": [
    {
     "data": {
      "text/plain": [
       "array([1., 0., 0., 0., 1., 0., 0., 0., 1., 0., 0., 0., 0., 0., 1., 0., 1.,\n",
       "       0., 0., 1.], dtype=float32)"
      ]
     },
     "execution_count": 25,
     "metadata": {},
     "output_type": "execute_result"
    }
   ],
   "source": [
    "# Check the last labels batch\n",
    "labels_batch"
   ]
  },
  {
   "cell_type": "code",
   "execution_count": 33,
   "metadata": {},
   "outputs": [
    {
     "name": "stdout",
     "output_type": "stream",
     "text": [
      "Epoch 1/30\n",
      "18/18 [==============================] - 76s 4s/step - loss: 0.5940 - acc: 0.6917 - val_loss: 0.6036 - val_acc: 0.6910\n",
      "Epoch 2/30\n",
      "18/18 [==============================] - 57s 3s/step - loss: 0.5498 - acc: 0.7167 - val_loss: 0.5097 - val_acc: 0.7472\n",
      "Epoch 3/30\n",
      "18/18 [==============================] - 48s 3s/step - loss: 0.5458 - acc: 0.7447 - val_loss: 0.6049 - val_acc: 0.7222\n",
      "Epoch 4/30\n",
      "18/18 [==============================] - 46s 3s/step - loss: 0.5116 - acc: 0.7333 - val_loss: 0.5061 - val_acc: 0.7191\n",
      "Epoch 5/30\n",
      "18/18 [==============================] - 44s 2s/step - loss: 0.4920 - acc: 0.7444 - val_loss: 0.4624 - val_acc: 0.8062\n",
      "Epoch 6/30\n",
      "18/18 [==============================] - 42s 2s/step - loss: 0.5145 - acc: 0.7271 - val_loss: 0.4899 - val_acc: 0.7861\n",
      "Epoch 7/30\n",
      "18/18 [==============================] - 42s 2s/step - loss: 0.4945 - acc: 0.7611 - val_loss: 0.4676 - val_acc: 0.7500\n",
      "Epoch 8/30\n",
      "18/18 [==============================] - 42s 2s/step - loss: 0.4746 - acc: 0.7556 - val_loss: 0.4892 - val_acc: 0.7809\n",
      "Epoch 9/30\n",
      "18/18 [==============================] - 43s 2s/step - loss: 0.5002 - acc: 0.7760 - val_loss: 0.4386 - val_acc: 0.7809\n",
      "Epoch 10/30\n",
      "18/18 [==============================] - 42s 2s/step - loss: 0.5106 - acc: 0.7472 - val_loss: 0.4368 - val_acc: 0.7750\n",
      "Epoch 11/30\n",
      "18/18 [==============================] - 42s 2s/step - loss: 0.4419 - acc: 0.7917 - val_loss: 0.4673 - val_acc: 0.7781\n",
      "Epoch 12/30\n",
      "18/18 [==============================] - 42s 2s/step - loss: 0.4386 - acc: 0.8010 - val_loss: 0.4826 - val_acc: 0.7725\n",
      "Epoch 13/30\n",
      "18/18 [==============================] - 43s 2s/step - loss: 0.4585 - acc: 0.7722 - val_loss: 0.4615 - val_acc: 0.8028\n",
      "Epoch 14/30\n",
      "18/18 [==============================] - 42s 2s/step - loss: 0.4625 - acc: 0.8053 - val_loss: 0.4336 - val_acc: 0.7893\n",
      "Epoch 15/30\n",
      "18/18 [==============================] - 41s 2s/step - loss: 0.4495 - acc: 0.7972 - val_loss: 0.4918 - val_acc: 0.7444\n",
      "Epoch 16/30\n",
      "18/18 [==============================] - 43s 2s/step - loss: 0.4337 - acc: 0.7639 - val_loss: 0.4352 - val_acc: 0.7972\n",
      "Epoch 17/30\n",
      "18/18 [==============================] - 43s 2s/step - loss: 0.4565 - acc: 0.7926 - val_loss: 0.4447 - val_acc: 0.7809\n",
      "Epoch 18/30\n",
      "18/18 [==============================] - 42s 2s/step - loss: 0.4389 - acc: 0.7806 - val_loss: 0.4274 - val_acc: 0.8118\n",
      "Epoch 19/30\n",
      "18/18 [==============================] - 44s 2s/step - loss: 0.4611 - acc: 0.7750 - val_loss: 0.4503 - val_acc: 0.7889\n",
      "Epoch 20/30\n",
      "18/18 [==============================] - 41s 2s/step - loss: 0.4563 - acc: 0.7933 - val_loss: 0.4650 - val_acc: 0.7809\n",
      "Epoch 21/30\n",
      "18/18 [==============================] - 42s 2s/step - loss: 0.4069 - acc: 0.7861 - val_loss: 0.4644 - val_acc: 0.7837\n",
      "Epoch 22/30\n",
      "18/18 [==============================] - 42s 2s/step - loss: 0.4524 - acc: 0.7694 - val_loss: 0.4523 - val_acc: 0.7697\n",
      "Epoch 23/30\n",
      "18/18 [==============================] - 42s 2s/step - loss: 0.4044 - acc: 0.8149 - val_loss: 0.4351 - val_acc: 0.7944\n",
      "Epoch 24/30\n",
      "18/18 [==============================] - 44s 2s/step - loss: 0.3887 - acc: 0.8083 - val_loss: 0.4774 - val_acc: 0.7781\n",
      "Epoch 25/30\n",
      "18/18 [==============================] - 45s 3s/step - loss: 0.4174 - acc: 0.7972 - val_loss: 0.4233 - val_acc: 0.8006\n",
      "Epoch 26/30\n",
      "18/18 [==============================] - 44s 2s/step - loss: 0.3913 - acc: 0.8143 - val_loss: 0.4331 - val_acc: 0.7972\n",
      "Epoch 27/30\n",
      "18/18 [==============================] - 42s 2s/step - loss: 0.4314 - acc: 0.8194 - val_loss: 0.5501 - val_acc: 0.7303\n",
      "Epoch 28/30\n",
      "18/18 [==============================] - 43s 2s/step - loss: 0.3612 - acc: 0.8333 - val_loss: 0.4964 - val_acc: 0.7500\n",
      "Epoch 29/30\n",
      "18/18 [==============================] - 45s 2s/step - loss: 0.3982 - acc: 0.8065 - val_loss: 0.4435 - val_acc: 0.8083\n",
      "Epoch 30/30\n",
      "18/18 [==============================] - 43s 2s/step - loss: 0.4454 - acc: 0.7889 - val_loss: 0.4369 - val_acc: 0.7781\n"
     ]
    }
   ],
   "source": [
    "history = model.fit_generator(\n",
    "      train_generator,\n",
    "      steps_per_epoch = 18,\n",
    "      verbose = 1,\n",
    "      epochs = 30,\n",
    "      validation_data = validation_generator,\n",
    "      validation_steps = 18)\n",
    "\n",
    "# Save the model\n",
    "model.save('case_2_run_5.h5')"
   ]
  },
  {
   "cell_type": "code",
   "execution_count": 34,
   "metadata": {},
   "outputs": [
    {
     "data": {
      "image/png": "[encoded data removed]",
      "text/plain": [
       "<Figure size 432x288 with 1 Axes>"
      ]
     },
     "metadata": {
      "needs_background": "light"
     },
     "output_type": "display_data"
    },
    {
     "data": {
      "image/png": "[encoded data removed]",
      "text/plain": [
       "<Figure size 432x288 with 1 Axes>"
      ]
     },
     "metadata": {
      "needs_background": "light"
     },
     "output_type": "display_data"
    }
   ],
   "source": [
    "acc = history.history['acc']\n",
    "val_acc = history.history['val_acc']\n",
    "loss = history.history['loss']\n",
    "val_loss = history.history['val_loss']\n",
    "\n",
    "epochs = range(len(acc))\n",
    "\n",
    "plt.plot(epochs, acc, 'b',c='r', label='Training acc')\n",
    "plt.plot(epochs, val_acc, 'b', label='Validation acc')\n",
    "plt.title('Training and validation accuracy')\n",
    "plt.legend()\n",
    "\n",
    "plt.figure()\n",
    "\n",
    "plt.plot(epochs, loss, 'b',c='r', label='Training loss')\n",
    "plt.plot(epochs, val_loss, 'b', label='Validation loss')\n",
    "plt.title('Training and validation loss')\n",
    "plt.legend()\n",
    "\n",
    "plt.show()"
   ]
  },
  {
   "cell_type": "code",
   "execution_count": null,
   "metadata": {},
   "outputs": [],
   "source": []
  }
 ],
 "metadata": {
  "kernelspec": {
   "display_name": "Python 3",
   "language": "python",
   "name": "python3"
  },
  "language_info": {
   "codemirror_mode": {
    "name": "ipython",
    "version": 3
   },
   "file_extension": ".py",
   "mimetype": "text/x-python",
   "name": "python",
   "nbconvert_exporter": "python",
   "pygments_lexer": "ipython3",
   "version": "3.6.7"
  }
 },
 "nbformat": 4,
 "nbformat_minor": 2
}
